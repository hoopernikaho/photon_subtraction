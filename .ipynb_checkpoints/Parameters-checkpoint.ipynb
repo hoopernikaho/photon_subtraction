{
 "cells": [
  {
   "cell_type": "markdown",
   "metadata": {},
   "source": [
    "This notebook attempts to put together the parameters required to perform photon addition and subtraction on a four-wave mixing source. The idea is to explore commutation effects on creation and destruction operators acting on an input state. Creation operators implemented with a heralded single photon addition when the input state acts as a seed in 4 wave mixing, and annihilation implemented with a high transmission BS."
   ]
  },
  {
   "cell_type": "code",
   "execution_count": 19,
   "metadata": {
    "collapsed": true
   },
   "outputs": [],
   "source": [
    "from IPython.core.interactiveshell import InteractiveShell\n",
    "InteractiveShell.ast_node_interactivity = \"all\""
   ]
  },
  {
   "cell_type": "markdown",
   "metadata": {},
   "source": [
    "# Known Parameters\n",
    "the seed is a pulsed coherent beam in the signal mode of the 4 wave mixing with a \n",
    "* t_seed: pulse width\n",
    "* R_seed: repetition rate\n",
    "* n_seed: photon number per pulse"
   ]
  },
  {
   "cell_type": "code",
   "execution_count": 20,
   "metadata": {
    "collapsed": false
   },
   "outputs": [
    {
     "ename": "SyntaxError",
     "evalue": "invalid syntax (<ipython-input-20-6a093e89c795>, line 8)",
     "output_type": "error",
     "traceback": [
      "\u001b[0;36m  File \u001b[0;32m\"<ipython-input-20-6a093e89c795>\"\u001b[0;36m, line \u001b[0;32m8\u001b[0m\n\u001b[0;31m    GBP_det = # homodyne detector gain bandwidth product\u001b[0m\n\u001b[0m                                                        ^\u001b[0m\n\u001b[0;31mSyntaxError\u001b[0m\u001b[0;31m:\u001b[0m invalid syntax\n"
     ]
    }
   ],
   "source": [
    "t_coh = 1/20e6*1e9 #ns: four wave mixing signal arm coherence time, will be seed coherence time, \n",
    "#so that added photon is in the same mode\n",
    "R_seed = 3000 #Hz rate of pairs continuously generated, heralding efficiency already taken into account.\n",
    "\n",
    "t_TesJitter = 30 #ns\n",
    "R_TesDc = 20 #Hz\n",
    "\n",
    "GBP_det = # homodyne detector gain bandwidth product\n",
    "gain = # homodyne detector gain required\n",
    "t_det = 1/(2*Pi*GBP_det/gain) # resolution\n",
    "t_width = #ns integration window: refer to Gup and Bar thesis"
   ]
  },
  {
   "cell_type": "code",
   "execution_count": 21,
   "metadata": {
    "collapsed": false
   },
   "outputs": [
    {
     "name": "stdout",
     "output_type": "stream",
     "text": [
      "50.0\n"
     ]
    }
   ],
   "source": [
    "print t_coh"
   ]
  },
  {
   "cell_type": "markdown",
   "metadata": {},
   "source": [
    "# Conditions"
   ]
  },
  {
   "cell_type": "markdown",
   "metadata": {},
   "source": [
    "* t_seed < t_TesJitter # related to t_width?\n",
    "* t_TesJitter << t_coh # photon is added to temporal mode of signal arm, s.t. quadrature is larger, not just the quadrature integral\n",
    "* R_seed << 1/t_TesDeadtime # low seed repetition rate prevent overlapping TES pulses\n",
    "* R_seed >> R_TesDc # want the heralding efficiency to be virtually unaffected by TES dark counts\n",
    "* n_seed per pulse >> Tes dark counts per pulse: a given, from above \n",
    "* n_Side s.t. n_SideMax << 4 determined by TES PNR: photons subtracted from side port should be less than TES's resolving ability\n",
    "* t_det >> t_coh #resolve homodyne signal"
   ]
  },
  {
   "cell_type": "markdown",
   "metadata": {},
   "source": [
    "# Implications and Constraints"
   ]
  },
  {
   "cell_type": "markdown",
   "metadata": {},
   "source": [
    "* n_seed max .. quadrature .. LO strength .. homodyne signal .. homo detector gain > detector noise .. integration time"
   ]
  },
  {
   "cell_type": "code",
   "execution_count": null,
   "metadata": {
    "collapsed": true
   },
   "outputs": [],
   "source": []
  }
 ],
 "metadata": {
  "kernelspec": {
   "display_name": "Python 2",
   "language": "python",
   "name": "python2"
  },
  "language_info": {
   "codemirror_mode": {
    "name": "ipython",
    "version": 2
   },
   "file_extension": ".py",
   "mimetype": "text/x-python",
   "name": "python",
   "nbconvert_exporter": "python",
   "pygments_lexer": "ipython2",
   "version": "2.7.12"
  }
 },
 "nbformat": 4,
 "nbformat_minor": 2
}
